{
 "cells": [
  {
   "cell_type": "code",
   "execution_count": 34,
   "id": "07b1d490",
   "metadata": {},
   "outputs": [],
   "source": [
    "import woslite_client\n",
    "import json"
   ]
  },
  {
   "cell_type": "code",
   "execution_count": 35,
   "id": "aac947bf",
   "metadata": {},
   "outputs": [],
   "source": [
    "from __future__ import print_function\n",
    "import time\n",
    "import woslite_client\n",
    "from woslite_client.rest import ApiException\n",
    "from pprint import pprint\n",
    "\n",
    "\n",
    "# Configure API key authorization: key\n",
    "configuration = woslite_client.Configuration()\n",
    "configuration.api_key['X-ApiKey'] = '7263295125113a07f088770334f9f70748c1ac2a'"
   ]
  },
  {
   "cell_type": "code",
   "execution_count": 120,
   "id": "e0eb8666",
   "metadata": {},
   "outputs": [],
   "source": [
    "#create an instance of the API class\n",
    "integration_api_instance = woslite_client.IntegrationApi(woslite_client.ApiClient(configuration))\n",
    "search_api_instance = woslite_client.SearchApi(woslite_client.ApiClient(configuration))\n",
    "database_id = 'WOS'  # str | Database to search. Must be a valid database ID, one of the following: BCI/BIOABS/BIOSIS/CCC/DCI/DIIDW/MEDLINE/WOK/WOS/ZOOREC. WOK represents all databases.\n",
    "usr_query = 'ALL=(energy) AND PUBL=(Elsevier)'  # str | User query for requesting data, ex: TS=(cadmium). The query parser will return errors for invalid queries.\n",
    "count = 100 # int | Number of records returned in the request\n",
    "first_record = 1  # int | Specific record, if any within the result set to return. Cannot be less than 1 and greater than 100000.\n",
    "publish_time_span = '2022-01-01+2022-12-31'\n",
    "lang = 'en'  # str | Language of search. This element can take only one value: en for English. If no language is specified, English is passed by default. (optional)\n",
    "sort_field = 'PY+D'  # str | Order by field(s). Field name and order by clause separated by '+', use A for ASC and D for DESC, ex: PY+D. Multiple values are separated by comma. (optional)"
   ]
  },
  {
   "cell_type": "markdown",
   "id": "08ac4f2f",
   "metadata": {},
   "source": [
    "## only get doi"
   ]
  },
  {
   "cell_type": "code",
   "execution_count": 37,
   "id": "9a10ba7c",
   "metadata": {},
   "outputs": [],
   "source": [
    "def get_doi(response):\n",
    "    dl = []\n",
    "    for i in response.data:\n",
    "        doi = i.other.identifier_doi\n",
    "        x_doi = i.other.identifier_xref_doi\n",
    "        if doi != None:\n",
    "            dl.append(doi[0])\n",
    "        else:\n",
    "            if x_doi != None:\n",
    "                dl.append(x_doi[0])       \n",
    "    return dl"
   ]
  },
  {
   "cell_type": "code",
   "execution_count": 100,
   "id": "d59ea91d",
   "metadata": {},
   "outputs": [],
   "source": [
    "total_doi = []"
   ]
  },
  {
   "cell_type": "code",
   "execution_count": 121,
   "id": "7c720c99",
   "metadata": {},
   "outputs": [
    {
     "name": "stderr",
     "output_type": "stream",
     "text": [
      "\r",
      "  0%|          | 0/764 [00:00<?, ?it/s]"
     ]
    },
    {
     "name": "stdout",
     "output_type": "stream",
     "text": [
      "76452\n"
     ]
    },
    {
     "name": "stderr",
     "output_type": "stream",
     "text": [
      "100%|██████████| 764/764 [04:52<00:00,  2.61it/s]\n"
     ]
    }
   ],
   "source": [
    "from tqdm import tqdm\n",
    "\n",
    "\n",
    "try:\n",
    "    api_response = search_api_instance.root_get(database_id, usr_query, count, first_record, lang=lang,\n",
    "                                                         sort_field=sort_field, publish_time_span=publish_time_span)\n",
    "    query_id = api_response.query_result.query_id\n",
    "    print(api_response.query_result.records_found)\n",
    "    doi_100 = get_doi(api_response)\n",
    "    total_doi.extend(doi_100)\n",
    "    for i in tqdm(range(101, api_response.query_result.records_found, 100)):\n",
    "        api_response = search_api_instance.query_query_id_get(query_id, 100, i)\n",
    "        doi_post = get_doi(api_response)\n",
    "        total_doi.extend(doi_post)\n",
    "\n",
    "except ApiException as e:\n",
    "    print(\"Exception when calling SearchApi->root_get: {}\".format(e))"
   ]
  },
  {
   "cell_type": "code",
   "execution_count": 122,
   "id": "cc31d811",
   "metadata": {},
   "outputs": [
    {
     "name": "stdout",
     "output_type": "stream",
     "text": [
      "387934\n"
     ]
    }
   ],
   "source": [
    "print(len(total_doi))"
   ]
  },
  {
   "cell_type": "code",
   "execution_count": 123,
   "id": "21adc9a0",
   "metadata": {},
   "outputs": [
    {
     "name": "stdout",
     "output_type": "stream",
     "text": [
      "387934\n",
      "387934\n"
     ]
    }
   ],
   "source": [
    "# print(api_response.query_result.records_found)\n",
    "print(len(total_doi))\n",
    "tmp = list(set(total_doi))\n",
    "print(len(total_doi))\n",
    "\n",
    "json_str = json.dumps(total_doi, indent=4)\n",
    "with open('Energy_Elsevier_1922.json', 'w', encoding='utf-8') as json_file:\n",
    "    json_file.write(json_str)"
   ]
  },
  {
   "cell_type": "markdown",
   "id": "b57a4d54",
   "metadata": {},
   "source": [
    "## get doi with year"
   ]
  },
  {
   "cell_type": "code",
   "execution_count": 4,
   "id": "1fb94313",
   "metadata": {},
   "outputs": [],
   "source": [
    "def get_doi_year(response):\n",
    "    dl = {}\n",
    "    for i in response.data:\n",
    "        doi = i.other.identifier_doi\n",
    "        x_doi = i.other.identifier_xref_doi\n",
    "        year = i.source.published_biblio_year\n",
    "        if year != None:\n",
    "            if doi != None:\n",
    "                dl[doi[0]]=year[0]\n",
    "            else:\n",
    "                if x_doi != None:\n",
    "                    dl[x_doi[0]]=year[0]           \n",
    "    return dl"
   ]
  },
  {
   "cell_type": "code",
   "execution_count": 30,
   "id": "e2180a8b",
   "metadata": {},
   "outputs": [],
   "source": [
    "total_doi_year = {}"
   ]
  },
  {
   "cell_type": "code",
   "execution_count": 31,
   "id": "3d798506",
   "metadata": {},
   "outputs": [
    {
     "name": "stderr",
     "output_type": "stream",
     "text": [
      "\r",
      "  0%|          | 0/973 [00:00<?, ?it/s]"
     ]
    },
    {
     "name": "stdout",
     "output_type": "stream",
     "text": [
      "97303\n"
     ]
    },
    {
     "name": "stderr",
     "output_type": "stream",
     "text": [
      "100%|██████████| 973/973 [06:05<00:00,  2.66it/s]\n"
     ]
    }
   ],
   "source": [
    "from tqdm import tqdm\n",
    "\n",
    "\n",
    "try:\n",
    "    api_response = search_api_instance.root_get(database_id, usr_query, count, first_record, lang=lang,\n",
    "                                                         sort_field=sort_field, publish_time_span=publish_time_span)\n",
    "    query_id = api_response.query_result.query_id\n",
    "    print(api_response.query_result.records_found)\n",
    "    doi_100 = get_doi(api_response)\n",
    "    total_doi_year.update(doi_100)\n",
    "    for i in tqdm(range(101, api_response.query_result.records_found, 100)):\n",
    "        api_response = search_api_instance.query_query_id_get(query_id, 100, i)\n",
    "        doi_post = get_doi(api_response)\n",
    "        total_doi_year.update(doi_post)\n",
    "\n",
    "except ApiException as e:\n",
    "    print(\"Exception when calling SearchApi->root_get: {}\".format(e))"
   ]
  },
  {
   "cell_type": "code",
   "execution_count": 32,
   "id": "5c254a95",
   "metadata": {},
   "outputs": [
    {
     "name": "stdout",
     "output_type": "stream",
     "text": [
      "77363\n"
     ]
    }
   ],
   "source": [
    "print(len(total_doi_year))"
   ]
  },
  {
   "cell_type": "code",
   "execution_count": 18,
   "id": "0e02d84f",
   "metadata": {},
   "outputs": [],
   "source": [
    "json_str = json.dumps(total_doi_year, indent=4)\n",
    "with open('total_doi_year.json', 'w', encoding='utf-8') as json_file:\n",
    "    json_file.write(json_str)"
   ]
  },
  {
   "cell_type": "code",
   "execution_count": null,
   "id": "ca36c8c9",
   "metadata": {},
   "outputs": [],
   "source": []
  }
 ],
 "metadata": {
  "kernelspec": {
   "display_name": "Python 3",
   "language": "python",
   "name": "python3"
  },
  "language_info": {
   "codemirror_mode": {
    "name": "ipython",
    "version": 3
   },
   "file_extension": ".py",
   "mimetype": "text/x-python",
   "name": "python",
   "nbconvert_exporter": "python",
   "pygments_lexer": "ipython3",
   "version": "3.8.8"
  }
 },
 "nbformat": 4,
 "nbformat_minor": 5
}