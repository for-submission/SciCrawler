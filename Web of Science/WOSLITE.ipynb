{
 "cells": [
  {
   "cell_type": "code",
   "execution_count": 1,
   "id": "07b1d490",
   "metadata": {},
   "outputs": [],
   "source": [
    "import woslite_client\n",
    "import json"
   ]
  },
  {
   "cell_type": "code",
   "execution_count": 2,
   "id": "aac947bf",
   "metadata": {},
   "outputs": [],
   "source": [
    "from __future__ import print_function\n",
    "import time\n",
    "import woslite_client\n",
    "from woslite_client.rest import ApiException\n",
    "from pprint import pprint\n",
    "\n",
    "\n",
    "# Configure API key authorization: key\n",
    "configuration = woslite_client.Configuration()\n",
    "configuration.api_key['X-ApiKey'] = 'input your api key here'"
   ]
  },
  {
   "cell_type": "code",
   "execution_count": 3,
   "id": "e0eb8666",
   "metadata": {},
   "outputs": [],
   "source": [
    "#create an instance of the API class\n",
    "integration_api_instance = woslite_client.IntegrationApi(woslite_client.ApiClient(configuration))\n",
    "search_api_instance = woslite_client.SearchApi(woslite_client.ApiClient(configuration))\n",
    "database_id = ''  # str | Database to search. Must be a valid database ID, one of the following: BCI/BIOABS/BIOSIS/CCC/DCI/DIIDW/MEDLINE/WOK/WOS/ZOOREC. WOK represents all databases.\n",
    "usr_query = ''  # str | User query for requesting data, ex: TS=(cadmium). The query parser will return errors for invalid queries.\n",
    "count = 10 # int | Number of records returned in the request\n",
    "first_record = 1  # int | Specific record, if any within the result set to return. Cannot be less than 1 and greater than 100000.\n",
    "publish_time_span = ''\n",
    "lang = ''  # str | Language of search. This element can take only one value: en for English. If no language is specified, English is passed by default. (optional)\n",
    "sort_field = ''  # str | Order by field(s). Field name and order by clause separated by '+', use A for ASC and D for DESC, ex: PY+D. Multiple values are separated by comma. (optional)"
   ]
  },
  {
   "cell_type": "code",
   "execution_count": 11,
   "id": "5d795c3b",
   "metadata": {
    "scrolled": false
   },
   "outputs": [
    {
     "name": "stdout",
     "output_type": "stream",
     "text": [
      "Response: \n"
     ]
    }
   ],
   "source": [
    "# Find record(s) by user query\n",
    "api_response = search_api_instance.root_get(database_id, usr_query, count, first_record, \n",
    "                                            lang=lang, publish_time_span=publish_time_span, \n",
    "                                            sort_field=sort_field)\n",
    "# for more details look at the models\n",
    "#firstAuthor = api_response.data[0].author.authors[0]\n",
    "\n",
    "response = str(api_response)\n"
   ]
  },
  {
   "cell_type": "code",
   "execution_count": null,
   "id": "7c245520",
   "metadata": {},
   "outputs": [],
   "source": [
    "for i in range[1,1000]:\n",
    "    first_record = i*100\n",
    "    api_response =  search_api_instance.root_get(database_id, usr_query, count, first_record, \n",
    "                                            lang=lang, publish_time_span=publish_time_span, \n",
    "                                            sort_field=sort_field)\n",
    "    "
   ]
  }
 ],
 "metadata": {
  "kernelspec": {
   "display_name": "Python 3 (ipykernel)",
   "language": "python",
   "name": "python3"
  },
  "language_info": {
   "codemirror_mode": {
    "name": "ipython",
    "version": 3
   },
   "file_extension": ".py",
   "mimetype": "text/x-python",
   "name": "python",
   "nbconvert_exporter": "python",
   "pygments_lexer": "ipython3",
   "version": "3.9.13"
  }
 },
 "nbformat": 4,
 "nbformat_minor": 5
}
