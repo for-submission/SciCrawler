{
 "cells": [
  {
   "cell_type": "code",
   "execution_count": null,
   "id": "87060b0c",
   "metadata": {},
   "outputs": [],
   "source": [
    "from mp_api.client import MPRester\n",
    "import json"
   ]
  },
  {
   "cell_type": "code",
   "execution_count": null,
   "id": "ced44960",
   "metadata": {},
   "outputs": [],
   "source": [
    "from mp_api.client import MPRester\n",
    "import json\n",
    "\n",
    "with MPRester(\"input your API key here\") as mpr:\n",
    "    docs = mpr.synthesis.search()"
   ]
  },
  {
   "cell_type": "code",
   "execution_count": null,
   "id": "14178689",
   "metadata": {},
   "outputs": [],
   "source": [
    "value =[]\n",
    "tmp_dict = {}\n",
    "for i in range(len(docs)):\n",
    "    tmp_dict[i] = {}\n",
    "    # doi - string\n",
    "    value = docs[i].doi\n",
    "    tmp_dict[i]['doi'] = value\n",
    "    # targets_formula - string\n",
    "    value = str(docs[i].targets_formula)\n",
    "    tmp_dict[i]['targets_formula'] = value\n",
    "    for j in range(len(docs[i].operations)):\n",
    "        #token - string\n",
    "        token = str(docs[i].operations[j].token)\n",
    "        tmp_dict[i][token] = {}\n",
    "        #Temperature\n",
    "        for k in range(len(docs[i].operations[j].conditions.heating_temperature)):\n",
    "            if docs[i].operations[j].conditions.heating_temperature[k]:\n",
    "                if docs[i].operations[j].conditions.heating_temperature[k].units == '°C':\n",
    "                    #min value - float\n",
    "                    if docs[i].operations[j].conditions.heating_temperature[k].min_value:\n",
    "                        value = docs[i].operations[j].conditions.heating_temperature[k].min_value + 273.15\n",
    "                        tmp_dict[i][token]['min_value'] = value\n",
    "                    #max value - float\n",
    "                    if docs[i].operations[j].conditions.heating_temperature[k].max_value:\n",
    "                        value = docs[i].operations[j].conditions.heating_temperature[k].max_value + 273.15\n",
    "                        tmp_dict[i][token]['max_value'] = value\n",
    "                    #value - list\n",
    "                    if docs[i].operations[j].conditions.heating_temperature[k].values:\n",
    "                        value = float(str(docs[i].operations[j].conditions.heating_temperature[k].values[0])) + 273.15\n",
    "                        tmp_dict[i][token]['values'] = value \n",
    "                if docs[i].operations[j].conditions.heating_temperature[k].units == 'K' or 'k':\n",
    "                    #min value - float\n",
    "                    if docs[i].operations[j].conditions.heating_temperature[k].min_value:\n",
    "                        value = docs[i].operations[j].conditions.heating_temperature[k].min_value \n",
    "                        tmp_dict[i][token]['min_value'] = value\n",
    "                    #max value - float\n",
    "                    if docs[i].operations[j].conditions.heating_temperature[k].max_value:\n",
    "                        value = docs[i].operations[j].conditions.heating_temperature[k].max_value\n",
    "                        tmp_dict[i][token]['max_value'] = value\n",
    "                    #value - list\n",
    "                    if docs[i].operations[j].conditions.heating_temperature[k].values:\n",
    "                        value = float(str(docs[i].operations[j].conditions.heating_temperature[k].values[0]))\n",
    "                        tmp_dict[i][token]['values'] = value \n",
    "            else:\n",
    "                tmp_dict[i][token] = []\n",
    "        "
   ]
  },
  {
   "cell_type": "code",
   "execution_count": null,
   "id": "57cdc47a",
   "metadata": {},
   "outputs": [],
   "source": [
    "json_object = json.dumps(tmp_dict) \n",
    "\n",
    "with open('data.json', 'w',encoding='utf-8') as fp:\n",
    "    json.dump(tmp_dict, fp)"
   ]
  }
 ],
 "metadata": {
  "kernelspec": {
   "display_name": "Python 3 (ipykernel)",
   "language": "python",
   "name": "python3"
  },
  "language_info": {
   "codemirror_mode": {
    "name": "ipython",
    "version": 3
   },
   "file_extension": ".py",
   "mimetype": "text/x-python",
   "name": "python",
   "nbconvert_exporter": "python",
   "pygments_lexer": "ipython3",
   "version": "3.9.13"
  }
 },
 "nbformat": 4,
 "nbformat_minor": 5
}
