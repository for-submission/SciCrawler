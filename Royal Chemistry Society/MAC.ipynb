{
 "cells": [
  {
   "cell_type": "code",
   "execution_count": 5,
   "id": "bf332f02",
   "metadata": {},
   "outputs": [],
   "source": [
    "import os\n",
    "import time\n",
    "import requests \n",
    "import bs4 as bs \n",
    "import numpy as np\n",
    "import pandas as pd \n",
    "from time import sleep\n",
    "from webdriver_manager.chrome import ChromeDriverManager\n",
    "headers ={'user-agent':'input your user-agent here'}\n",
    "import warnings; warnings.filterwarnings('ignore')\n",
    "from selenium import webdriver\n",
    "from selenium.webdriver.chrome.options import Options\n",
    "import time\n",
    "from selenium.webdriver.common.by import By\n",
    "from selenium.webdriver.support.ui import WebDriverWait\n",
    "from selenium.webdriver.support import expected_conditions as EC\n",
    "import json\n",
    "from tqdm import tqdm\n",
    "import requests\n"
   ]
  },
  {
   "cell_type": "code",
   "execution_count": 18,
   "id": "60cfe660",
   "metadata": {},
   "outputs": [],
   "source": [
    "option = webdriver.ChromeOptions()\n",
    "option.add_argument('user-data-dir = input your google chrome path here') \n",
    "driver = webdriver.Chrome(chrome_options=option, executable_path='input your google chrome dricer here')"
   ]
  },
  {
   "cell_type": "code",
   "execution_count": null,
   "id": "84fcd9e2",
   "metadata": {},
   "outputs": [],
   "source": [
    "with open('input your doi json here', 'r', encoding='utf-8') as file_obj:\n",
    "    rsc = json.load(file_obj)\n",
    "path = \"input your output path here\"\n",
    "already = os.listdir(path)\n",
    "a_idx = []\n",
    "for a in already:\n",
    "    a_idx.append(int(a[:-4]))\n",
    "for i, ed in enumerate(tqdm(rsc)):\n",
    "    if i not in a_idx:\n",
    "        url = 'http://doi.org/' + str(ed)\n",
    "        driver.get(url)\n",
    "        time.sleep(3)\n",
    "        try:\n",
    "            tmp = driver.find_element(By.LINK_TEXT,'Article HTML')\n",
    "            target = tmp.click()\n",
    "            time.sleep(3)\n",
    "            html_source = driver.page_source\n",
    "            output = 'Data/'+ 'RCS_'+ str(i) +'.html'\n",
    "            with open(output, 'w',encoding='utf-8') as f:\n",
    "                f.write(html_source)\n",
    "            time.sleep(3)\n",
    "        \n",
    "        except:\n",
    "            print('can not locate')\n",
    "        "
   ]
  }
 ],
 "metadata": {
  "kernelspec": {
   "display_name": "Python 3 (ipykernel)",
   "language": "python",
   "name": "python3"
  },
  "language_info": {
   "codemirror_mode": {
    "name": "ipython",
    "version": 3
   },
   "file_extension": ".py",
   "mimetype": "text/x-python",
   "name": "python",
   "nbconvert_exporter": "python",
   "pygments_lexer": "ipython3",
   "version": "3.9.13"
  }
 },
 "nbformat": 4,
 "nbformat_minor": 5
}
